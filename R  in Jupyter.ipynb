{
 "cells": [
  {
   "cell_type": "markdown",
   "metadata": {},
   "source": [
    "##  R  in jupyter\n",
    "\n",
    "\n",
    "### Turki Aljrees , 2020\n",
    "\n"
   ]
  },
  {
   "cell_type": "markdown",
   "metadata": {},
   "source": [
    "----"
   ]
  },
  {
   "cell_type": "markdown",
   "metadata": {},
   "source": [
    "#### a) R in Jupyter : "
   ]
  },
  {
   "cell_type": "code",
   "execution_count": 17,
   "metadata": {},
   "outputs": [],
   "source": [
    "# Import your data\n",
    "\n",
    "LungCapData <- read.delim(file.choose(), header=T)"
   ]
  },
  {
   "cell_type": "code",
   "execution_count": 18,
   "metadata": {
    "scrolled": false
   },
   "outputs": [
    {
     "data": {
      "text/plain": [
       "    LungCap            Age            Height         Smoke          \n",
       " Min.   : 0.507   Min.   : 3.00   Min.   :45.30   Length:725        \n",
       " 1st Qu.: 6.150   1st Qu.: 9.00   1st Qu.:59.90   Class :character  \n",
       " Median : 8.000   Median :13.00   Median :65.40   Mode  :character  \n",
       " Mean   : 7.863   Mean   :12.33   Mean   :64.84                     \n",
       " 3rd Qu.: 9.800   3rd Qu.:15.00   3rd Qu.:70.30                     \n",
       " Max.   :14.675   Max.   :19.00   Max.   :81.80                     \n",
       "    Gender           Caesarean        \n",
       " Length:725         Length:725        \n",
       " Class :character   Class :character  \n",
       " Mode  :character   Mode  :character  \n",
       "                                      \n",
       "                                      \n",
       "                                      "
      ]
     },
     "metadata": {},
     "output_type": "display_data"
    }
   ],
   "source": [
    "#insight to the data\n",
    "\n",
    "summary(LungCapData)"
   ]
  },
  {
   "cell_type": "code",
   "execution_count": 19,
   "metadata": {
    "scrolled": true
   },
   "outputs": [
    {
     "name": "stdout",
     "output_type": "stream",
     "text": [
      "'data.frame':\t725 obs. of  6 variables:\n",
      " $ LungCap  : num  6.47 10.12 9.55 11.12 4.8 ...\n",
      " $ Age      : int  6 18 16 14 5 11 8 11 15 11 ...\n",
      " $ Height   : num  62.1 74.7 69.7 71 56.9 58.7 63.3 70.4 70.5 59.2 ...\n",
      " $ Smoke    : chr  \"no\" \"yes\" \"no\" \"no\" ...\n",
      " $ Gender   : chr  \"male\" \"female\" \"female\" \"male\" ...\n",
      " $ Caesarean: chr  \"no\" \"no\" \"yes\" \"no\" ...\n"
     ]
    }
   ],
   "source": [
    "# structure  of  date \n",
    "\n",
    "str(LungCapData)"
   ]
  },
  {
   "cell_type": "code",
   "execution_count": 20,
   "metadata": {
    "scrolled": true
   },
   "outputs": [
    {
     "data": {
      "image/png": "[encoded data removed]",
      "text/plain": [
       "Plot with title \"Scatterplot\""
      ]
     },
     "metadata": {
      "image/png": {
       "height": 420,
       "width": 420
      }
     },
     "output_type": "display_data"
    }
   ],
   "source": [
    "#scatter plot\n",
    "\n",
    "plot(LungCapData$Height, LungCapData$Age, main = \"Scatterplot\")"
   ]
  },
  {
   "cell_type": "markdown",
   "metadata": {},
   "source": [
    "#### simple linear regression in your data"
   ]
  },
  {
   "cell_type": "code",
   "execution_count": 21,
   "metadata": {},
   "outputs": [],
   "source": [
    "mod <- lm(LungCapData$Height ~ LungCapData$Age)"
   ]
  },
  {
   "cell_type": "code",
   "execution_count": 22,
   "metadata": {},
   "outputs": [
    {
     "data": {
      "text/plain": [
       "\n",
       "Call:\n",
       "lm(formula = LungCapData$Height ~ LungCapData$Age)\n",
       "\n",
       "Residuals:\n",
       "    Min      1Q  Median      3Q     Max \n",
       "-11.733  -2.757   0.061   2.758  11.352 \n",
       "\n",
       "Coefficients:\n",
       "                Estimate Std. Error t value Pr(>|t|)    \n",
       "(Intercept)     46.30908    0.47600   97.29   <2e-16 ***\n",
       "LungCapData$Age  1.50299    0.03673   40.92   <2e-16 ***\n",
       "---\n",
       "Signif. codes:  0 '***' 0.001 '**' 0.01 '*' 0.05 '.' 0.1 ' ' 1\n",
       "\n",
       "Residual standard error: 3.958 on 723 degrees of freedom\n",
       "Multiple R-squared:  0.6985,\tAdjusted R-squared:  0.698 \n",
       "F-statistic:  1675 on 1 and 723 DF,  p-value: < 2.2e-16\n"
      ]
     },
     "metadata": {},
     "output_type": "display_data"
    }
   ],
   "source": [
    "summary(mod)"
   ]
  },
  {
   "cell_type": "markdown",
   "metadata": {},
   "source": [
    "----"
   ]
  }
 ],
 "metadata": {
  "kernelspec": {
   "display_name": "R",
   "language": "R",
   "name": "ir"
  },
  "language_info": {
   "codemirror_mode": "r",
   "file_extension": ".r",
   "mimetype": "text/x-r-source",
   "name": "R",
   "pygments_lexer": "r",
   "version": "4.0.3"
  }
 },
 "nbformat": 4,
 "nbformat_minor": 4
}
